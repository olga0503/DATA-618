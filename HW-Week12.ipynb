{
 "cells": [
  {
   "cell_type": "markdown",
   "metadata": {},
   "source": [
    "# HW Week12"
   ]
  },
  {
   "cell_type": "code",
   "execution_count": 258,
   "metadata": {},
   "outputs": [],
   "source": [
    "import math\n",
    "import numpy as np\n",
    "import pandas as pd\n",
    "import quandl\n",
    "import datetime\n",
    "from scipy.stats import norm"
   ]
  },
  {
   "cell_type": "markdown",
   "metadata": {},
   "source": [
    "### 10.1 Let S=\\\\$100, K=\\\\$105, r=8%, T=0.5, and δ=0.  Let u=1.3, d=0.8, and n=1 <br>\n",
    "a. What are the premium, Δ, and B for a European call\n"
   ]
  },
  {
   "cell_type": "code",
   "execution_count": 259,
   "metadata": {},
   "outputs": [],
   "source": [
    "S = 100\n",
    "K = 105\n",
    "r = 0.08\n",
    "T = 0.5\n",
    "st_dev = 0\n",
    "u = 1.3\n",
    "d = 0.8\n",
    "n = 1"
   ]
  },
  {
   "cell_type": "code",
   "execution_count": 260,
   "metadata": {},
   "outputs": [
    {
     "data": {
      "text/plain": [
       "0.48162154838477633"
      ]
     },
     "execution_count": 260,
     "metadata": {},
     "output_type": "execute_result"
    }
   ],
   "source": [
    "p = (math.exp(r*T) - d)/(u-d)\n",
    "p"
   ]
  },
  {
   "cell_type": "code",
   "execution_count": 261,
   "metadata": {},
   "outputs": [
    {
     "data": {
      "text/plain": [
       "11.568422433907068"
      ]
     },
     "execution_count": 261,
     "metadata": {},
     "output_type": "execute_result"
    }
   ],
   "source": [
    "premium = (math.exp(-r*T)*(p*max(S*u-K,st_dev)) + ((1-p)*max(S*d-K,st_dev)))\n",
    "premium"
   ]
  },
  {
   "cell_type": "code",
   "execution_count": 262,
   "metadata": {},
   "outputs": [
    {
     "data": {
      "text/plain": [
       "0.5"
      ]
     },
     "execution_count": 262,
     "metadata": {},
     "output_type": "execute_result"
    }
   ],
   "source": [
    "delta = math.exp(-r*st_dev)*(max(S*u - K,st_dev) - max(S*d - K,st_dev))/(S*(u-d))\n",
    "delta"
   ]
  },
  {
   "cell_type": "code",
   "execution_count": 263,
   "metadata": {},
   "outputs": [
    {
     "data": {
      "text/plain": [
       "-38.43157756609293"
      ]
     },
     "execution_count": 263,
     "metadata": {},
     "output_type": "execute_result"
    }
   ],
   "source": [
    "B = premium - delta*S\n",
    "B"
   ]
  },
  {
   "cell_type": "markdown",
   "metadata": {},
   "source": [
    "b. What are the premium, Δ, and B for a European put"
   ]
  },
  {
   "cell_type": "code",
   "execution_count": 264,
   "metadata": {},
   "outputs": [
    {
     "data": {
      "text/plain": [
       "0.48162154838477633"
      ]
     },
     "execution_count": 264,
     "metadata": {},
     "output_type": "execute_result"
    }
   ],
   "source": [
    "p = (math.exp(r*T) - d)/(u-d)\n",
    "p"
   ]
  },
  {
   "cell_type": "code",
   "execution_count": 265,
   "metadata": {},
   "outputs": [
    {
     "data": {
      "text/plain": [
       "12.959461290380592"
      ]
     },
     "execution_count": 265,
     "metadata": {},
     "output_type": "execute_result"
    }
   ],
   "source": [
    "premium = (math.exp(-r*T)*(p*max(K-S*u,st_dev)) + ((1-p)*max(K-S*d,st_dev)))\n",
    "premium"
   ]
  },
  {
   "cell_type": "code",
   "execution_count": 266,
   "metadata": {},
   "outputs": [
    {
     "data": {
      "text/plain": [
       "-0.5"
      ]
     },
     "execution_count": 266,
     "metadata": {},
     "output_type": "execute_result"
    }
   ],
   "source": [
    "delta = math.exp(-r*st_dev)*(max(K-S*u,st_dev) - max(K-S*d,st_dev))/(S*(u-d))\n",
    "delta"
   ]
  },
  {
   "cell_type": "code",
   "execution_count": 267,
   "metadata": {},
   "outputs": [
    {
     "data": {
      "text/plain": [
       "62.95946129038059"
      ]
     },
     "execution_count": 267,
     "metadata": {},
     "output_type": "execute_result"
    }
   ],
   "source": [
    "B = premium - delta*S\n",
    "B"
   ]
  },
  {
   "cell_type": "markdown",
   "metadata": {},
   "source": [
    "### 10.4 Obtain at least 5 years’ worth of daily or weekly stock price data for a stock of your choice.\n",
    "\n"
   ]
  },
  {
   "cell_type": "code",
   "execution_count": 268,
   "metadata": {},
   "outputs": [
    {
     "data": {
      "text/html": [
       "<div>\n",
       "<style scoped>\n",
       "    .dataframe tbody tr th:only-of-type {\n",
       "        vertical-align: middle;\n",
       "    }\n",
       "\n",
       "    .dataframe tbody tr th {\n",
       "        vertical-align: top;\n",
       "    }\n",
       "\n",
       "    .dataframe thead th {\n",
       "        text-align: right;\n",
       "    }\n",
       "</style>\n",
       "<table border=\"1\" class=\"dataframe\">\n",
       "  <thead>\n",
       "    <tr style=\"text-align: right;\">\n",
       "      <th></th>\n",
       "      <th>Open</th>\n",
       "      <th>High</th>\n",
       "      <th>Low</th>\n",
       "      <th>Close</th>\n",
       "      <th>Volume</th>\n",
       "      <th>Ex-Dividend</th>\n",
       "      <th>Split Ratio</th>\n",
       "      <th>Adj. Open</th>\n",
       "      <th>Adj. High</th>\n",
       "      <th>Adj. Low</th>\n",
       "      <th>Adj. Close</th>\n",
       "      <th>Adj. Volume</th>\n",
       "    </tr>\n",
       "    <tr>\n",
       "      <th>Date</th>\n",
       "      <th></th>\n",
       "      <th></th>\n",
       "      <th></th>\n",
       "      <th></th>\n",
       "      <th></th>\n",
       "      <th></th>\n",
       "      <th></th>\n",
       "      <th></th>\n",
       "      <th></th>\n",
       "      <th></th>\n",
       "      <th></th>\n",
       "      <th></th>\n",
       "    </tr>\n",
       "  </thead>\n",
       "  <tbody>\n",
       "    <tr>\n",
       "      <th>2014-04-01</th>\n",
       "      <td>537.76</td>\n",
       "      <td>541.87</td>\n",
       "      <td>536.77</td>\n",
       "      <td>541.65</td>\n",
       "      <td>7170000.0</td>\n",
       "      <td>0.0</td>\n",
       "      <td>1.0</td>\n",
       "      <td>71.905792</td>\n",
       "      <td>72.455354</td>\n",
       "      <td>71.773415</td>\n",
       "      <td>72.425937</td>\n",
       "      <td>50190000.0</td>\n",
       "    </tr>\n",
       "    <tr>\n",
       "      <th>2014-04-02</th>\n",
       "      <td>542.38</td>\n",
       "      <td>543.48</td>\n",
       "      <td>540.26</td>\n",
       "      <td>542.55</td>\n",
       "      <td>6443600.0</td>\n",
       "      <td>0.0</td>\n",
       "      <td>1.0</td>\n",
       "      <td>72.523548</td>\n",
       "      <td>72.670633</td>\n",
       "      <td>72.240076</td>\n",
       "      <td>72.546280</td>\n",
       "      <td>45105200.0</td>\n",
       "    </tr>\n",
       "    <tr>\n",
       "      <th>2014-04-03</th>\n",
       "      <td>541.39</td>\n",
       "      <td>542.50</td>\n",
       "      <td>537.64</td>\n",
       "      <td>538.79</td>\n",
       "      <td>5798000.0</td>\n",
       "      <td>0.0</td>\n",
       "      <td>1.0</td>\n",
       "      <td>72.391172</td>\n",
       "      <td>72.539594</td>\n",
       "      <td>71.889746</td>\n",
       "      <td>72.043517</td>\n",
       "      <td>40586000.0</td>\n",
       "    </tr>\n",
       "    <tr>\n",
       "      <th>2014-04-04</th>\n",
       "      <td>539.81</td>\n",
       "      <td>540.00</td>\n",
       "      <td>530.58</td>\n",
       "      <td>531.82</td>\n",
       "      <td>9830400.0</td>\n",
       "      <td>0.0</td>\n",
       "      <td>1.0</td>\n",
       "      <td>72.179904</td>\n",
       "      <td>72.205310</td>\n",
       "      <td>70.945729</td>\n",
       "      <td>71.111533</td>\n",
       "      <td>68812800.0</td>\n",
       "    </tr>\n",
       "    <tr>\n",
       "      <th>2014-04-07</th>\n",
       "      <td>528.02</td>\n",
       "      <td>530.90</td>\n",
       "      <td>521.89</td>\n",
       "      <td>523.47</td>\n",
       "      <td>10351800.0</td>\n",
       "      <td>0.0</td>\n",
       "      <td>1.0</td>\n",
       "      <td>70.603422</td>\n",
       "      <td>70.988517</td>\n",
       "      <td>69.783758</td>\n",
       "      <td>69.995025</td>\n",
       "      <td>72462600.0</td>\n",
       "    </tr>\n",
       "  </tbody>\n",
       "</table>\n",
       "</div>"
      ],
      "text/plain": [
       "              Open    High     Low   Close      Volume  Ex-Dividend  \\\n",
       "Date                                                                  \n",
       "2014-04-01  537.76  541.87  536.77  541.65   7170000.0          0.0   \n",
       "2014-04-02  542.38  543.48  540.26  542.55   6443600.0          0.0   \n",
       "2014-04-03  541.39  542.50  537.64  538.79   5798000.0          0.0   \n",
       "2014-04-04  539.81  540.00  530.58  531.82   9830400.0          0.0   \n",
       "2014-04-07  528.02  530.90  521.89  523.47  10351800.0          0.0   \n",
       "\n",
       "            Split Ratio  Adj. Open  Adj. High   Adj. Low  Adj. Close  \\\n",
       "Date                                                                   \n",
       "2014-04-01          1.0  71.905792  72.455354  71.773415   72.425937   \n",
       "2014-04-02          1.0  72.523548  72.670633  72.240076   72.546280   \n",
       "2014-04-03          1.0  72.391172  72.539594  71.889746   72.043517   \n",
       "2014-04-04          1.0  72.179904  72.205310  70.945729   71.111533   \n",
       "2014-04-07          1.0  70.603422  70.988517  69.783758   69.995025   \n",
       "\n",
       "            Adj. Volume  \n",
       "Date                     \n",
       "2014-04-01   50190000.0  \n",
       "2014-04-02   45105200.0  \n",
       "2014-04-03   40586000.0  \n",
       "2014-04-04   68812800.0  \n",
       "2014-04-07   72462600.0  "
      ]
     },
     "execution_count": 268,
     "metadata": {},
     "output_type": "execute_result"
    }
   ],
   "source": [
    "#daily stock prices over the past five years, starting at April 20, 2014\n",
    "start = datetime.datetime(2014,4,1)\n",
    "end = datetime.date.today()\n",
    " \n",
    "#Apple stock data\n",
    "apple = quandl.get(\"WIKI/\" + \"AAPL\", start_date=start, end_date=end)\n",
    "\n",
    "apple.head()"
   ]
  },
  {
   "cell_type": "markdown",
   "metadata": {},
   "source": [
    "1. Compute annual volatility using all the data."
   ]
  },
  {
   "cell_type": "code",
   "execution_count": 269,
   "metadata": {},
   "outputs": [
    {
     "name": "stdout",
     "output_type": "stream",
     "text": [
      "Annual volatility equals to 22.81207108836306 %\n"
     ]
    }
   ],
   "source": [
    "# compute daily returns\n",
    "daily_returns = apple['Adj. Close'].pct_change().dropna().values.T \n",
    "# compute daily volatility  \n",
    "historical_vol_daily = np.std(daily_returns)  \n",
    "# convert daily volatility to annual volatility, assuming 252 trading days  \n",
    "historical_vol_annually = historical_vol_daily*np.sqrt(252)  \n",
    "# return estimate of annual volatility  \n",
    "print('Annual volatility equals to ' + str(100*historical_vol_annually) + ' %')"
   ]
  },
  {
   "cell_type": "markdown",
   "metadata": {},
   "source": [
    "2. Compute annual volatility for each calendar year in your data. How does\n",
    "volatility vary over time?"
   ]
  },
  {
   "cell_type": "code",
   "execution_count": 270,
   "metadata": {},
   "outputs": [
    {
     "data": {
      "text/html": [
       "<div>\n",
       "<style scoped>\n",
       "    .dataframe tbody tr th:only-of-type {\n",
       "        vertical-align: middle;\n",
       "    }\n",
       "\n",
       "    .dataframe tbody tr th {\n",
       "        vertical-align: top;\n",
       "    }\n",
       "\n",
       "    .dataframe thead th {\n",
       "        text-align: right;\n",
       "    }\n",
       "</style>\n",
       "<table border=\"1\" class=\"dataframe\">\n",
       "  <thead>\n",
       "    <tr style=\"text-align: right;\">\n",
       "      <th></th>\n",
       "      <th>year</th>\n",
       "      <th>volatility</th>\n",
       "    </tr>\n",
       "  </thead>\n",
       "  <tbody>\n",
       "    <tr>\n",
       "      <th>0</th>\n",
       "      <td>2014</td>\n",
       "      <td>0.209172</td>\n",
       "    </tr>\n",
       "    <tr>\n",
       "      <th>1</th>\n",
       "      <td>2015</td>\n",
       "      <td>0.267676</td>\n",
       "    </tr>\n",
       "    <tr>\n",
       "      <th>2</th>\n",
       "      <td>2016</td>\n",
       "      <td>0.234186</td>\n",
       "    </tr>\n",
       "    <tr>\n",
       "      <th>3</th>\n",
       "      <td>2017</td>\n",
       "      <td>0.177260</td>\n",
       "    </tr>\n",
       "    <tr>\n",
       "      <th>4</th>\n",
       "      <td>2018</td>\n",
       "      <td>0.266811</td>\n",
       "    </tr>\n",
       "  </tbody>\n",
       "</table>\n",
       "</div>"
      ],
      "text/plain": [
       "   year  volatility\n",
       "0  2014    0.209172\n",
       "1  2015    0.267676\n",
       "2  2016    0.234186\n",
       "3  2017    0.177260\n",
       "4  2018    0.266811"
      ]
     },
     "execution_count": 270,
     "metadata": {},
     "output_type": "execute_result"
    }
   ],
   "source": [
    "#2014\n",
    "close = apple['2014-01':'2014-12']['Adj. Close']\n",
    "r = np.diff(np.log(close))\n",
    "r_mean = np.mean(r)\n",
    "diff_square = [(r[i]-r_mean)**2 for i in range(0,len(r))]\n",
    "std = np.sqrt(sum(diff_square)*(1.0/(len(r)-1)))\n",
    "vol_2014 = std*np.sqrt(252)\n",
    "\n",
    "\n",
    "#2015\n",
    "close = apple['2015-01':'2015-12']['Adj. Close']\n",
    "r = np.diff(np.log(close))\n",
    "r_mean = np.mean(r)\n",
    "diff_square = [(r[i]-r_mean)**2 for i in range(0,len(r))]\n",
    "std = np.sqrt(sum(diff_square)*(1.0/(len(r)-1)))\n",
    "vol_2015 = std*np.sqrt(252)\n",
    "\n",
    "\n",
    "#2016\n",
    "close = apple['2016-01':'2016-12']['Adj. Close']\n",
    "r = np.diff(np.log(close))\n",
    "r_mean = np.mean(r)\n",
    "diff_square = [(r[i]-r_mean)**2 for i in range(0,len(r))]\n",
    "std = np.sqrt(sum(diff_square)*(1.0/(len(r)-1)))\n",
    "vol_2016 = std*np.sqrt(252)\n",
    "\n",
    "\n",
    "#2017\n",
    "close = apple['2017-01':'2017-12']['Adj. Close']\n",
    "r = np.diff(np.log(close))\n",
    "r_mean = np.mean(r)\n",
    "diff_square = [(r[i]-r_mean)**2 for i in range(0,len(r))]\n",
    "std = np.sqrt(sum(diff_square)*(1.0/(len(r)-1)))\n",
    "vol_2017 = std*np.sqrt(252)\n",
    "\n",
    "\n",
    "#2018\n",
    "close = apple['2018-01':'2018-12']['Adj. Close']\n",
    "r = np.diff(np.log(close))\n",
    "r_mean = np.mean(r)\n",
    "diff_square = [(r[i]-r_mean)**2 for i in range(0,len(r))]\n",
    "std = np.sqrt(sum(diff_square)*(1.0/(len(r)-1)))\n",
    "vol_2018 = std*np.sqrt(252)\n",
    "\n",
    "pd.DataFrame({'year':[2014,2015,2016,2017,2018],'volatility':[vol_2014,vol_2015,vol_2016,vol_2017,vol_2018]})"
   ]
  },
  {
   "cell_type": "markdown",
   "metadata": {},
   "source": [
    "3. Compute annual volatility for the first and second half of each year in your\n",
    "data. How much variation is there in your estimate?"
   ]
  },
  {
   "cell_type": "code",
   "execution_count": 271,
   "metadata": {},
   "outputs": [
    {
     "name": "stderr",
     "output_type": "stream",
     "text": [
      "/Users/FOMIOLNY/anaconda3/lib/python3.6/site-packages/numpy/core/fromnumeric.py:2920: RuntimeWarning: Mean of empty slice.\n",
      "  out=out, **kwargs)\n",
      "/Users/FOMIOLNY/anaconda3/lib/python3.6/site-packages/numpy/core/_methods.py:85: RuntimeWarning: invalid value encountered in double_scalars\n",
      "  ret = ret.dtype.type(ret / rcount)\n"
     ]
    },
    {
     "data": {
      "text/html": [
       "<div>\n",
       "<style scoped>\n",
       "    .dataframe tbody tr th:only-of-type {\n",
       "        vertical-align: middle;\n",
       "    }\n",
       "\n",
       "    .dataframe tbody tr th {\n",
       "        vertical-align: top;\n",
       "    }\n",
       "\n",
       "    .dataframe thead th {\n",
       "        text-align: right;\n",
       "    }\n",
       "</style>\n",
       "<table border=\"1\" class=\"dataframe\">\n",
       "  <thead>\n",
       "    <tr style=\"text-align: right;\">\n",
       "      <th></th>\n",
       "      <th>year</th>\n",
       "      <th>volatility</th>\n",
       "    </tr>\n",
       "  </thead>\n",
       "  <tbody>\n",
       "    <tr>\n",
       "      <th>0</th>\n",
       "      <td>2014 fist half</td>\n",
       "      <td>0.157105</td>\n",
       "    </tr>\n",
       "    <tr>\n",
       "      <th>1</th>\n",
       "      <td>2014 second half</td>\n",
       "      <td>0.143981</td>\n",
       "    </tr>\n",
       "    <tr>\n",
       "      <th>2</th>\n",
       "      <td>2015 fist half</td>\n",
       "      <td>0.164184</td>\n",
       "    </tr>\n",
       "    <tr>\n",
       "      <th>3</th>\n",
       "      <td>2015 second half</td>\n",
       "      <td>0.210905</td>\n",
       "    </tr>\n",
       "    <tr>\n",
       "      <th>4</th>\n",
       "      <td>2016 fist half</td>\n",
       "      <td>0.192059</td>\n",
       "    </tr>\n",
       "    <tr>\n",
       "      <th>5</th>\n",
       "      <td>2016 second half</td>\n",
       "      <td>0.134962</td>\n",
       "    </tr>\n",
       "    <tr>\n",
       "      <th>6</th>\n",
       "      <td>2017 fist half</td>\n",
       "      <td>0.121083</td>\n",
       "    </tr>\n",
       "    <tr>\n",
       "      <th>7</th>\n",
       "      <td>2017 second half</td>\n",
       "      <td>0.130333</td>\n",
       "    </tr>\n",
       "    <tr>\n",
       "      <th>8</th>\n",
       "      <td>2018 fist half</td>\n",
       "      <td>0.188664</td>\n",
       "    </tr>\n",
       "    <tr>\n",
       "      <th>9</th>\n",
       "      <td>2018 second half</td>\n",
       "      <td>-0.000000</td>\n",
       "    </tr>\n",
       "  </tbody>\n",
       "</table>\n",
       "</div>"
      ],
      "text/plain": [
       "               year  volatility\n",
       "0    2014 fist half    0.157105\n",
       "1  2014 second half    0.143981\n",
       "2    2015 fist half    0.164184\n",
       "3  2015 second half    0.210905\n",
       "4    2016 fist half    0.192059\n",
       "5  2016 second half    0.134962\n",
       "6    2017 fist half    0.121083\n",
       "7  2017 second half    0.130333\n",
       "8    2018 fist half    0.188664\n",
       "9  2018 second half   -0.000000"
      ]
     },
     "execution_count": 271,
     "metadata": {},
     "output_type": "execute_result"
    }
   ],
   "source": [
    "#2014 first half\n",
    "close = apple['2014-01':'2014-6']['Adj. Close']\n",
    "r = np.diff(np.log(close))\n",
    "r_mean = np.mean(r)\n",
    "diff_square = [(r[i]-r_mean)**2 for i in range(0,len(r))]\n",
    "std = np.sqrt(sum(diff_square)*(1.0/(len(r)-1)))\n",
    "vol_2014_1 = std*np.sqrt(252/2)\n",
    "\n",
    "#2014 second half\n",
    "close = apple['2014-07':'2014-12']['Adj. Close']\n",
    "r = np.diff(np.log(close))\n",
    "r_mean = np.mean(r)\n",
    "diff_square = [(r[i]-r_mean)**2 for i in range(0,len(r))]\n",
    "std = np.sqrt(sum(diff_square)*(1.0/(len(r)-1)))\n",
    "vol_2014_2 = std*np.sqrt(252/2)\n",
    "\n",
    "#2015 first half\n",
    "close = apple['2015-01':'2015-6']['Adj. Close']\n",
    "r = np.diff(np.log(close))\n",
    "r_mean = np.mean(r)\n",
    "diff_square = [(r[i]-r_mean)**2 for i in range(0,len(r))]\n",
    "std = np.sqrt(sum(diff_square)*(1.0/(len(r)-1)))\n",
    "vol_2015_1 = std*np.sqrt(252/2)\n",
    "\n",
    "#2015 second half\n",
    "close = apple['2015-07':'2015-12']['Adj. Close']\n",
    "r = np.diff(np.log(close))\n",
    "r_mean = np.mean(r)\n",
    "diff_square = [(r[i]-r_mean)**2 for i in range(0,len(r))]\n",
    "std = np.sqrt(sum(diff_square)*(1.0/(len(r)-1)))\n",
    "vol_2015_2 = std*np.sqrt(252/2)\n",
    "\n",
    "#2016 first half\n",
    "close = apple['2016-01':'2016-6']['Adj. Close']\n",
    "r = np.diff(np.log(close))\n",
    "r_mean = np.mean(r)\n",
    "diff_square = [(r[i]-r_mean)**2 for i in range(0,len(r))]\n",
    "std = np.sqrt(sum(diff_square)*(1.0/(len(r)-1)))\n",
    "vol_2016_1 = std*np.sqrt(252/2)\n",
    "\n",
    "#2016 second half\n",
    "close = apple['2016-07':'2016-12']['Adj. Close']\n",
    "r = np.diff(np.log(close))\n",
    "r_mean = np.mean(r)\n",
    "diff_square = [(r[i]-r_mean)**2 for i in range(0,len(r))]\n",
    "std = np.sqrt(sum(diff_square)*(1.0/(len(r)-1)))\n",
    "vol_2016_2 = std*np.sqrt(252/2)\n",
    "\n",
    "#2017 first half\n",
    "close = apple['2017-01':'2017-6']['Adj. Close']\n",
    "r = np.diff(np.log(close))\n",
    "r_mean = np.mean(r)\n",
    "diff_square = [(r[i]-r_mean)**2 for i in range(0,len(r))]\n",
    "std = np.sqrt(sum(diff_square)*(1.0/(len(r)-1)))\n",
    "vol_2017_1 = std*np.sqrt(252/2)\n",
    "\n",
    "#2017 second half\n",
    "close = apple['2017-07':'2017-12']['Adj. Close']\n",
    "r = np.diff(np.log(close))\n",
    "r_mean = np.mean(r)\n",
    "diff_square = [(r[i]-r_mean)**2 for i in range(0,len(r))]\n",
    "std = np.sqrt(sum(diff_square)*(1.0/(len(r)-1)))\n",
    "vol_2017_2 = std*np.sqrt(252/2)\n",
    "\n",
    "#2018 first half\n",
    "close = apple['2018-01':'2018-6']['Adj. Close']\n",
    "r = np.diff(np.log(close))\n",
    "r_mean = np.mean(r)\n",
    "diff_square = [(r[i]-r_mean)**2 for i in range(0,len(r))]\n",
    "std = np.sqrt(sum(diff_square)*(1.0/(len(r)-1)))\n",
    "vol_2018_1 = std*np.sqrt(252/2)\n",
    "\n",
    "#2014 second half\n",
    "close = apple['2018-07':'2018-12']['Adj. Close']\n",
    "r = np.diff(np.log(close))\n",
    "r_mean = np.mean(r)\n",
    "diff_square = [(r[i]-r_mean)**2 for i in range(0,len(r))]\n",
    "std = np.sqrt(sum(diff_square)*(1.0/(len(r)-1)))\n",
    "vol_2018_2 = std*np.sqrt(252/2)\n",
    "\n",
    "pd.DataFrame({'year':[\"2014 fist half\",\"2014 second half\",\"2015 fist half\",\"2015 second half\",\n",
    "                      \"2016 fist half\",\"2016 second half\",\"2017 fist half\",\"2017 second half\",\n",
    "                      \"2018 fist half\",\"2018 second half\"],\n",
    "              'volatility':[vol_2014_1,vol_2014_2,vol_2015_1,vol_2015_2,\n",
    "                            vol_2016_1,vol_2016_2, vol_2017_1,vol_2017_2,\n",
    "                            vol_2018_1,vol_2018_2]})"
   ]
  },
  {
   "cell_type": "markdown",
   "metadata": {},
   "source": [
    "### 11.1 Consider a one-period binomial model with h = 1, where S = \\\\$100, r = 0, σ = 0.3, δ = 0.08. Compute American call option prices for K = \\\\$70, \\\\$80, \\\\$90, and \\\\$100.\n",
    "\n"
   ]
  },
  {
   "cell_type": "code",
   "execution_count": 272,
   "metadata": {},
   "outputs": [],
   "source": [
    "S = 100\n",
    "r = 0\n",
    "T = 0.5\n",
    "h = 1\n",
    "st_dev = 0.3\n",
    "delta = 0.08\n",
    "r = 0"
   ]
  },
  {
   "cell_type": "markdown",
   "metadata": {},
   "source": [
    "a. At which strike(s) does early exercise occur?"
   ]
  },
  {
   "cell_type": "code",
   "execution_count": 273,
   "metadata": {},
   "outputs": [],
   "source": [
    "u = math.exp((r-delta)+(st_dev*np.sqrt(h)))\n",
    "d = math.exp((r-delta)-(st_dev*np.sqrt(h)))\n",
    "p = (math.exp(r-delta)-d)/(u-d)\n",
    "def strike_call(k):\n",
    "    if uS-K>0:\n",
    "       part1= p*(uS-K)\n",
    "    else: part1=0\n",
    "    if dS-K>0:\n",
    "       part2= p*(dS-K)\n",
    "    else: part2=0 \n",
    "    strike_call = round(math.exp(-r*h)*(part1+part2),2)\n",
    "    print(\"The value of the one period binomial European $\"+str(k)+\" strike call is \" + str(strike_call))\n",
    "    if 100-k > strike_call:\n",
    "       print(\"Early exercise occurs since the value of immediate exercise $\"+str(100-k)+\" is greater than the strike call of \" + str(strike_call))  \n",
    "    else:\n",
    "       print(\"Early exercise doesn't occur since the value of immediate exercise $\"+str(100-k)+\" is greater than the strike call of \" + str(strike_call))  "
   ]
  },
  {
   "cell_type": "code",
   "execution_count": 274,
   "metadata": {},
   "outputs": [
    {
     "name": "stdout",
     "output_type": "stream",
     "text": [
      "The value of the one period binomial European $70 strike call is 23.24\n",
      "Early exercise occurs since the value of immediate exercise $30 is greater than the strike call of 23.24\n"
     ]
    }
   ],
   "source": [
    "K = 70\n",
    "strike_call(K)"
   ]
  },
  {
   "cell_type": "code",
   "execution_count": 275,
   "metadata": {},
   "outputs": [
    {
     "name": "stdout",
     "output_type": "stream",
     "text": [
      "The value of the one period binomial European $80 strike call is 18.98\n",
      "Early exercise occurs since the value of immediate exercise $20 is greater than the strike call of 18.98\n"
     ]
    }
   ],
   "source": [
    "K = 80\n",
    "strike_call(K)"
   ]
  },
  {
   "cell_type": "code",
   "execution_count": 276,
   "metadata": {},
   "outputs": [
    {
     "name": "stdout",
     "output_type": "stream",
     "text": [
      "The value of the one period binomial European $90 strike call is 14.73\n",
      "Early exercise doesn't occur since the value of immediate exercise $10 is greater than the strike call of 14.73\n"
     ]
    }
   ],
   "source": [
    "K = 90\n",
    "strike_call(K)"
   ]
  },
  {
   "cell_type": "code",
   "execution_count": 277,
   "metadata": {},
   "outputs": [
    {
     "name": "stdout",
     "output_type": "stream",
     "text": [
      "The value of the one period binomial European $100 strike call is 10.47\n",
      "Early exercise doesn't occur since the value of immediate exercise $0 is greater than the strike call of 10.47\n"
     ]
    }
   ],
   "source": [
    "K = 100\n",
    "strike_call(K)"
   ]
  },
  {
   "cell_type": "markdown",
   "metadata": {},
   "source": [
    "b. Use put-call parity to explain why early exercise does not occur at the higher\n",
    "strikes."
   ]
  },
  {
   "cell_type": "code",
   "execution_count": 278,
   "metadata": {},
   "outputs": [
    {
     "name": "stdout",
     "output_type": "stream",
     "text": [
      "92.31163463866358\n",
      "1.0\n"
     ]
    }
   ],
   "source": [
    "S = 100\n",
    "#accorting to put-call parity C = S*math.exp(-delta)-K*math.exp(-r)+P\n",
    "print(S*math.exp(-delta))\n",
    "print(math.exp(-r))"
   ]
  },
  {
   "cell_type": "markdown",
   "metadata": {},
   "source": [
    "From the equation above we get 92.31-K+P. If 100-K is larger than 92.31-K+P the option can be exercised early. As at the higher strikes like \\\\$90 immideate exercise price  100-90=10 is smaller than 92.31-90+P = 2.31-P early exercise doesn't occcur."
   ]
  },
  {
   "cell_type": "markdown",
   "metadata": {},
   "source": [
    "### 12.3 Let S = \\\\$100, K = $120, σ = 30%, r = 0.08, and δ = 0.\n",
    "a. Compute the Black-Scholes call price for 1 year to maturity and for a variety\n",
    "of very long times to maturity. What happens to the option price as T → ∞?"
   ]
  },
  {
   "cell_type": "code",
   "execution_count": 279,
   "metadata": {},
   "outputs": [],
   "source": [
    "S = 100\n",
    "K = 120\n",
    "r = 0.08\n",
    "delta = 0\n",
    "st_dev = 0.3"
   ]
  },
  {
   "cell_type": "code",
   "execution_count": 280,
   "metadata": {},
   "outputs": [
    {
     "data": {
      "text/html": [
       "<div>\n",
       "<style scoped>\n",
       "    .dataframe tbody tr th:only-of-type {\n",
       "        vertical-align: middle;\n",
       "    }\n",
       "\n",
       "    .dataframe tbody tr th {\n",
       "        vertical-align: top;\n",
       "    }\n",
       "\n",
       "    .dataframe thead th {\n",
       "        text-align: right;\n",
       "    }\n",
       "</style>\n",
       "<table border=\"1\" class=\"dataframe\">\n",
       "  <thead>\n",
       "    <tr style=\"text-align: right;\">\n",
       "      <th></th>\n",
       "      <th>T</th>\n",
       "      <th>1</th>\n",
       "      <th>2</th>\n",
       "      <th>5</th>\n",
       "      <th>10</th>\n",
       "      <th>50</th>\n",
       "      <th>100</th>\n",
       "      <th>500</th>\n",
       "    </tr>\n",
       "  </thead>\n",
       "  <tbody>\n",
       "    <tr>\n",
       "      <th>0</th>\n",
       "      <td>d1</td>\n",
       "      <td>-0.191072</td>\n",
       "      <td>0.159520</td>\n",
       "      <td>0.659906</td>\n",
       "      <td>1.125432</td>\n",
       "      <td>2.860331</td>\n",
       "      <td>4.105893</td>\n",
       "      <td>9.289771</td>\n",
       "    </tr>\n",
       "    <tr>\n",
       "      <th>1</th>\n",
       "      <td>d2</td>\n",
       "      <td>-0.491072</td>\n",
       "      <td>-0.615336</td>\n",
       "      <td>-0.861892</td>\n",
       "      <td>-1.139755</td>\n",
       "      <td>-2.312392</td>\n",
       "      <td>-3.191072</td>\n",
       "      <td>-6.899276</td>\n",
       "    </tr>\n",
       "    <tr>\n",
       "      <th>2</th>\n",
       "      <td>BS Call Price</td>\n",
       "      <td>7.896571</td>\n",
       "      <td>28.812803</td>\n",
       "      <td>58.899207</td>\n",
       "      <td>80.121454</td>\n",
       "      <td>99.765591</td>\n",
       "      <td>99.997958</td>\n",
       "      <td>100.000000</td>\n",
       "    </tr>\n",
       "  </tbody>\n",
       "</table>\n",
       "</div>"
      ],
      "text/plain": [
       "               T         1          2          5         10         50  \\\n",
       "0             d1 -0.191072   0.159520   0.659906   1.125432   2.860331   \n",
       "1             d2 -0.491072  -0.615336  -0.861892  -1.139755  -2.312392   \n",
       "2  BS Call Price  7.896571  28.812803  58.899207  80.121454  99.765591   \n",
       "\n",
       "         100         500  \n",
       "0   4.105893    9.289771  \n",
       "1  -3.191072   -6.899276  \n",
       "2  99.997958  100.000000  "
      ]
     },
     "execution_count": 280,
     "metadata": {},
     "output_type": "execute_result"
    }
   ],
   "source": [
    "#at T=1\n",
    "T=1\n",
    "d1_1 = (math.log(S/K) + (r - delta + 0.5*pow(st_dev,2))*T)/(st_dev*np.sqrt(T))\n",
    "d2_1 = d1_1-st_dev*math.sqrt(T)\n",
    "BS_call_price_1 = S*math.exp(-delta*T)*norm.cdf(d1_1) - K*math.exp(-r*T)*norm.cdf(d2_1)\n",
    "\n",
    "#at T=2\n",
    "T=2\n",
    "d1_2 = (math.log(S/K) + (r - delta + 0.5*pow(st_dev,2))*T)/(st_dev*np.sqrt(T))\n",
    "d2_2 = d1_1-st_dev*math.sqrt(T)\n",
    "BS_call_price_2 = S*math.exp(-delta*T)*norm.cdf(d1_2) - K*math.exp(-r*T)*norm.cdf(d2_2)\n",
    "\n",
    "#at T=5\n",
    "T=5\n",
    "d1_5 = (math.log(S/K) + (r - delta + 0.5*pow(st_dev,2))*T)/(st_dev*np.sqrt(T))\n",
    "d2_5 = d1_1-st_dev*math.sqrt(T)\n",
    "BS_call_price_5 = S*math.exp(-delta*T)*norm.cdf(d1_5) - K*math.exp(-r*T)*norm.cdf(d2_5)\n",
    "\n",
    "#at T=10\n",
    "T=10\n",
    "d1_10 = (math.log(S/K) + (r - delta + 0.5*pow(st_dev,2))*T)/(st_dev*np.sqrt(T))\n",
    "d2_10 = d1_1-st_dev*math.sqrt(T)\n",
    "BS_call_price_10 = S*math.exp(-delta*T)*norm.cdf(d1_10) - K*math.exp(-r*T)*norm.cdf(d2_10)\n",
    "\n",
    "#at T=50\n",
    "T=50\n",
    "d1_50 =(math.log(S/K) + (r - delta + 0.5*pow(st_dev,2))*T)/(st_dev*np.sqrt(T))\n",
    "d2_50 = d1_1-st_dev*math.sqrt(T)\n",
    "BS_call_price_50 = S*math.exp(-delta*T)*norm.cdf(d1_50) - K*math.exp(-r*T)*norm.cdf(d2_50)\n",
    "\n",
    "#at T=100\n",
    "T=100\n",
    "d1_100 = (math.log(S/K) + (r - delta + 0.5*pow(st_dev,2))*T)/(st_dev*np.sqrt(T))\n",
    "d2_100 = d1_1-st_dev*math.sqrt(T)\n",
    "BS_call_price_100 = S*math.exp(-delta*T)*norm.cdf(d1_100) - K*math.exp(-r*T)*norm.cdf(d2_100)\n",
    "\n",
    "#at T=500\n",
    "T=500\n",
    "d1_500 =(math.log(S/K) + (r - delta + 0.5*pow(st_dev,2))*T)/(st_dev*np.sqrt(T))\n",
    "d2_500 = d1_1-st_dev*math.sqrt(T)\n",
    "BS_call_price_500 = S*math.exp(-delta*T)*norm.cdf(d1_500) - K*math.exp(-r*T)*norm.cdf(d2_500)\n",
    "\n",
    "pd.DataFrame({'T':[\"d1\",\"d2\",\"BS Call Price\"],\n",
    "              \"1\":[d1_1,d2_1,BS_call_price_1],\n",
    "              \"2\":[d1_2,d2_2,BS_call_price_2],\n",
    "              \"5\":[d1_5,d2_5,BS_call_price_5],\n",
    "              \"10\":[d1_10,d2_10,BS_call_price_10],\n",
    "              \"50\":[d1_50,d2_50,BS_call_price_50],\n",
    "              \"100\":[d1_100,d2_100,BS_call_price_100],\n",
    "              \"500\":[d1_500,d2_500,BS_call_price_500]})"
   ]
  },
  {
   "cell_type": "markdown",
   "metadata": {},
   "source": [
    "As T approaches infinity, the call approaches the value of the underlying stock price, signifying that over very long time horizons the call option is not distinguishable from the stock."
   ]
  },
  {
   "cell_type": "markdown",
   "metadata": {},
   "source": [
    "### 13.3 In the following problems assume, unless otherwise stated, that S = \\\\$40, σ = 30%, r = 8%, and δ = 0. Suppose you buy a 40–45 bull spread with 91 days to expiration. If you delta-hedge this position, what investment is required? What is your overnight profit if the stock tomorrow is \\\\$39? What if the stock is \\\\$40.50?"
   ]
  },
  {
   "cell_type": "code",
   "execution_count": 281,
   "metadata": {},
   "outputs": [],
   "source": [
    "S = 40\n",
    "K = 45\n",
    "r = 0.08\n",
    "delta = 0\n",
    "st_dev = 0.3"
   ]
  },
  {
   "cell_type": "code",
   "execution_count": 282,
   "metadata": {},
   "outputs": [
    {
     "name": "stdout",
     "output_type": "stream",
     "text": [
      "d1 is -0.5782503476905758\n",
      "d2 is -0.728044727306046\n",
      "delta is 0.2815475557049747\n",
      "Selling call, getting premium 0.971026784192718\n",
      "Buying delta shares 11.261902228198988\n",
      "Borrowing the net cost 10.29087544400627\n"
     ]
    }
   ],
   "source": [
    "#91st day\n",
    "T = 91/365\n",
    "d1 = (math.log(S/K) + (r - delta + 0.5*pow(st_dev,2))*T)/(st_dev*np.sqrt(T))\n",
    "print(\"d1 is \"+str(d1))\n",
    "d2 = d1-st_dev*math.sqrt(T)\n",
    "print(\"d2 is \"+str(d2))\n",
    "hedge_delta = norm.cdf(d1)\n",
    "print(\"delta is \"+str(hedge_delta))\n",
    "#as we are trying to hedge a sold option we replicate the long option by buying delta shares. \n",
    "BS_call_price = S*math.exp(-delta*T)*norm.cdf(d1) - K*math.exp(-r*T)*norm.cdf(d2)\n",
    "print(\"Selling call, getting premium \"+str(BS_call_price))\n",
    "print(\"Buying delta shares \"+ str(S*hedge_delta))\n",
    "b_netcost = abs(S*hedge_delta) - BS_call_price\n",
    "print(\"Borrowing the net cost \" + str(b_netcost))\n",
    "#no net overflow per share"
   ]
  },
  {
   "cell_type": "code",
   "execution_count": 283,
   "metadata": {},
   "outputs": [
    {
     "name": "stdout",
     "output_type": "stream",
     "text": [
      "d1 is -0.753706345944088\n",
      "d2 is -0.9026754058925143\n",
      "Liability under option 0.7054482611978461\n",
      "Value of shares held 10.980354672494013\n",
      "Money owed under loan -10.293131225550068\n"
     ]
    }
   ],
   "source": [
    "#90th day, if price is $39\n",
    "S = 39\n",
    "K = 45\n",
    "T = 90/365\n",
    "d1 = (math.log(S/K) + (r - delta + 0.5*pow(st_dev,2))*T)/(st_dev*np.sqrt(T))\n",
    "print(\"d1 is \"+str(d1))\n",
    "d2 = d1-st_dev*math.sqrt(T)\n",
    "print(\"d2 is \"+str(d2))\n",
    "#as we are trying to hedge a sold option we replicate the long option by buying delta shares. \n",
    "BS_call_price = S*math.exp(-delta*T)*norm.cdf(d1) - K*math.exp(-r*T)*norm.cdf(d2)\n",
    "print(\"Liability under option \"+ str(BS_call_price))\n",
    "print(\"Value of shares held \"+ str(abs(hedge_delta)*S))\n",
    "under_loan = -b_netcost*math.exp(r*(1/365))\n",
    "print(\"Money owed under loan \"+ str(under_loan))"
   ]
  },
  {
   "cell_type": "code",
   "execution_count": 284,
   "metadata": {},
   "outputs": [
    {
     "name": "stdout",
     "output_type": "stream",
     "text": [
      "d1 is -0.5003629470133779\n",
      "d2 is -0.6493320069618042\n",
      "Liability under option 1.104639661307809\n",
      "Value of shares held 11.402676006051475\n",
      "Money owed under loan -10.293131225550068\n"
     ]
    }
   ],
   "source": [
    "#90th day, if price is $40.50\n",
    "S = 40.50\n",
    "K = 45\n",
    "T = 90/365\n",
    "d1 = (math.log(S/K) + (r - delta + 0.5*pow(st_dev,2))*T)/(st_dev*np.sqrt(T))\n",
    "print(\"d1 is \"+str(d1))\n",
    "d2 = d1-st_dev*math.sqrt(T)\n",
    "print(\"d2 is \"+str(d2))\n",
    "#as we are trying to hedge a sold option we replicate the long option by buying delta shares. \n",
    "BS_call_price = S*math.exp(-delta*T)*norm.cdf(d1) - K*math.exp(-r*T)*norm.cdf(d2)\n",
    "print(\"Liability under option \"+ str(BS_call_price))\n",
    "print(\"Value of shares held \"+ str(abs(hedge_delta)*S))\n",
    "under_loan = -b_netcost*math.exp(r*(1/365))\n",
    "print(\"Money owed under loan \"+ str(under_loan))"
   ]
  },
  {
   "cell_type": "markdown",
   "metadata": {},
   "source": [
    "### 18.2 You draw these five numbers from a standard normal distribution:{−1.7, 0.55, −0.3,−0.02, .85}. What are the equivalent draws from a normal distribution with mean 0.8 and variance 25?"
   ]
  },
  {
   "cell_type": "code",
   "execution_count": 285,
   "metadata": {},
   "outputs": [],
   "source": [
    "mean = 0.8\n",
    "var = 25"
   ]
  },
  {
   "cell_type": "markdown",
   "metadata": {},
   "source": [
    "I used the equation below to convert “Standard” normally distributed values to normally distributed values<br>\n",
    "Y =(X - mean (X)) /SD(X), <br>\n",
    "where X is normally distributed and Y is “standard” normally distributed<br>\n",
    "X = Y*SD(X) + mean (X)"
   ]
  },
  {
   "cell_type": "code",
   "execution_count": 286,
   "metadata": {},
   "outputs": [
    {
     "data": {
      "text/plain": [
       "-7.7"
      ]
     },
     "execution_count": 286,
     "metadata": {},
     "output_type": "execute_result"
    }
   ],
   "source": [
    "#convert −1.7\n",
    "st_dev = math.sqrt(var)\n",
    "X = -1.7*st_dev  + mean\n",
    "X"
   ]
  },
  {
   "cell_type": "code",
   "execution_count": 287,
   "metadata": {},
   "outputs": [
    {
     "data": {
      "text/plain": [
       "3.55"
      ]
     },
     "execution_count": 287,
     "metadata": {},
     "output_type": "execute_result"
    }
   ],
   "source": [
    "#convert 0.55\n",
    "X = 0.55*st_dev  + mean\n",
    "X"
   ]
  },
  {
   "cell_type": "code",
   "execution_count": 288,
   "metadata": {},
   "outputs": [
    {
     "data": {
      "text/plain": [
       "-0.7"
      ]
     },
     "execution_count": 288,
     "metadata": {},
     "output_type": "execute_result"
    }
   ],
   "source": [
    "#convert −0.3\n",
    "X = -0.3*st_dev  + mean\n",
    "X"
   ]
  },
  {
   "cell_type": "code",
   "execution_count": 289,
   "metadata": {},
   "outputs": [
    {
     "data": {
      "text/plain": [
       "0.7000000000000001"
      ]
     },
     "execution_count": 289,
     "metadata": {},
     "output_type": "execute_result"
    }
   ],
   "source": [
    "#convert −0.02\n",
    "X = -0.02*st_dev  + mean\n",
    "X"
   ]
  },
  {
   "cell_type": "code",
   "execution_count": 290,
   "metadata": {},
   "outputs": [
    {
     "data": {
      "text/plain": [
       "5.05"
      ]
     },
     "execution_count": 290,
     "metadata": {},
     "output_type": "execute_result"
    }
   ],
   "source": [
    "#convert 0.85\n",
    "X = 0.85*st_dev  + mean\n",
    "X"
   ]
  },
  {
   "cell_type": "code",
   "execution_count": 291,
   "metadata": {},
   "outputs": [
    {
     "data": {
      "text/plain": [
       "64.6181442470645"
      ]
     },
     "execution_count": 291,
     "metadata": {},
     "output_type": "execute_result"
    }
   ],
   "source": [
    "math.exp(-0.08)*70"
   ]
  },
  {
   "cell_type": "code",
   "execution_count": 292,
   "metadata": {},
   "outputs": [
    {
     "data": {
      "text/plain": [
       "75.83009473724711"
      ]
     },
     "execution_count": 292,
     "metadata": {},
     "output_type": "execute_result"
    }
   ],
   "source": [
    "math.exp(0.08)*70"
   ]
  }
 ],
 "metadata": {
  "kernelspec": {
   "display_name": "Python 3",
   "language": "python",
   "name": "python3"
  },
  "language_info": {
   "codemirror_mode": {
    "name": "ipython",
    "version": 3
   },
   "file_extension": ".py",
   "mimetype": "text/x-python",
   "name": "python",
   "nbconvert_exporter": "python",
   "pygments_lexer": "ipython3",
   "version": "3.6.5"
  }
 },
 "nbformat": 4,
 "nbformat_minor": 2
}
