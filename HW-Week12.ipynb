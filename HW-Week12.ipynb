{
 "cells": [
  {
   "cell_type": "markdown",
   "metadata": {},
   "source": [
    "# HW Week12"
   ]
  },
  {
   "cell_type": "code",
   "execution_count": 97,
   "metadata": {},
   "outputs": [],
   "source": [
    "import math\n",
    "import numpy as np\n",
    "import pandas as pd\n",
    "import quandl\n",
    "import datetime\n",
    "from scipy.stats import norm"
   ]
  },
  {
   "cell_type": "markdown",
   "metadata": {},
   "source": [
    "### 10.1 Let S=$100, K=$105, r=8%, T=0.5, and δ=0.  Let u=1.3, d=0.8, and n=1 </br>\n",
    "a. What are the premium, Δ, and B for a European call\n"
   ]
  },
  {
   "cell_type": "code",
   "execution_count": 3,
   "metadata": {},
   "outputs": [],
   "source": [
    "S = 100\n",
    "K = 105\n",
    "r = 0.08\n",
    "T = 0.5\n",
    "st_dev = 0\n",
    "u = 1.3\n",
    "d = 0.8\n",
    "n = 1"
   ]
  },
  {
   "cell_type": "code",
   "execution_count": 4,
   "metadata": {},
   "outputs": [
    {
     "data": {
      "text/plain": [
       "0.48162154838477633"
      ]
     },
     "execution_count": 4,
     "metadata": {},
     "output_type": "execute_result"
    }
   ],
   "source": [
    "p = (math.exp(r*T) - d)/(u-d)\n",
    "p"
   ]
  },
  {
   "cell_type": "code",
   "execution_count": 5,
   "metadata": {},
   "outputs": [
    {
     "data": {
      "text/plain": [
       "11.568422433907068"
      ]
     },
     "execution_count": 5,
     "metadata": {},
     "output_type": "execute_result"
    }
   ],
   "source": [
    "premium = (math.exp(-r*T)*(p*max(S*u-K,st_dev)) + ((1-p)*max(S*d-K,st_dev)))\n",
    "premium"
   ]
  },
  {
   "cell_type": "code",
   "execution_count": 6,
   "metadata": {},
   "outputs": [
    {
     "data": {
      "text/plain": [
       "0.5"
      ]
     },
     "execution_count": 6,
     "metadata": {},
     "output_type": "execute_result"
    }
   ],
   "source": [
    "delta = math.exp(-r*st_dev)*(max(S*u - K,st_dev) - max(S*d - K,st_dev))/(S*(u-d))\n",
    "delta"
   ]
  },
  {
   "cell_type": "code",
   "execution_count": 7,
   "metadata": {},
   "outputs": [
    {
     "data": {
      "text/plain": [
       "-38.43157756609293"
      ]
     },
     "execution_count": 7,
     "metadata": {},
     "output_type": "execute_result"
    }
   ],
   "source": [
    "B = premium - delta*S\n",
    "B"
   ]
  },
  {
   "cell_type": "markdown",
   "metadata": {},
   "source": [
    "b. What are the premium, Δ, and B for a European put"
   ]
  },
  {
   "cell_type": "code",
   "execution_count": 8,
   "metadata": {},
   "outputs": [
    {
     "data": {
      "text/plain": [
       "0.48162154838477633"
      ]
     },
     "execution_count": 8,
     "metadata": {},
     "output_type": "execute_result"
    }
   ],
   "source": [
    "p = (math.exp(r*T) - d)/(u-d)\n",
    "p"
   ]
  },
  {
   "cell_type": "code",
   "execution_count": 9,
   "metadata": {},
   "outputs": [
    {
     "data": {
      "text/plain": [
       "12.959461290380592"
      ]
     },
     "execution_count": 9,
     "metadata": {},
     "output_type": "execute_result"
    }
   ],
   "source": [
    "premium = (math.exp(-r*T)*(p*max(K-S*u,st_dev)) + ((1-p)*max(K-S*d,st_dev)))\n",
    "premium"
   ]
  },
  {
   "cell_type": "code",
   "execution_count": 10,
   "metadata": {},
   "outputs": [
    {
     "data": {
      "text/plain": [
       "-0.5"
      ]
     },
     "execution_count": 10,
     "metadata": {},
     "output_type": "execute_result"
    }
   ],
   "source": [
    "delta = math.exp(-r*st_dev)*(max(K-S*u,st_dev) - max(K-S*d,st_dev))/(S*(u-d))\n",
    "delta"
   ]
  },
  {
   "cell_type": "code",
   "execution_count": 11,
   "metadata": {},
   "outputs": [
    {
     "data": {
      "text/plain": [
       "62.95946129038059"
      ]
     },
     "execution_count": 11,
     "metadata": {},
     "output_type": "execute_result"
    }
   ],
   "source": [
    "B = premium - delta*S\n",
    "B"
   ]
  },
  {
   "cell_type": "markdown",
   "metadata": {},
   "source": [
    "### 10.4 Obtain at least 5 years’ worth of daily or weekly stock price data for a stock of your choice.\n",
    "\n"
   ]
  },
  {
   "cell_type": "code",
   "execution_count": 16,
   "metadata": {},
   "outputs": [
    {
     "data": {
      "text/html": [
       "<div>\n",
       "<style scoped>\n",
       "    .dataframe tbody tr th:only-of-type {\n",
       "        vertical-align: middle;\n",
       "    }\n",
       "\n",
       "    .dataframe tbody tr th {\n",
       "        vertical-align: top;\n",
       "    }\n",
       "\n",
       "    .dataframe thead th {\n",
       "        text-align: right;\n",
       "    }\n",
       "</style>\n",
       "<table border=\"1\" class=\"dataframe\">\n",
       "  <thead>\n",
       "    <tr style=\"text-align: right;\">\n",
       "      <th></th>\n",
       "      <th>Open</th>\n",
       "      <th>High</th>\n",
       "      <th>Low</th>\n",
       "      <th>Close</th>\n",
       "      <th>Volume</th>\n",
       "      <th>Ex-Dividend</th>\n",
       "      <th>Split Ratio</th>\n",
       "      <th>Adj. Open</th>\n",
       "      <th>Adj. High</th>\n",
       "      <th>Adj. Low</th>\n",
       "      <th>Adj. Close</th>\n",
       "      <th>Adj. Volume</th>\n",
       "    </tr>\n",
       "    <tr>\n",
       "      <th>Date</th>\n",
       "      <th></th>\n",
       "      <th></th>\n",
       "      <th></th>\n",
       "      <th></th>\n",
       "      <th></th>\n",
       "      <th></th>\n",
       "      <th></th>\n",
       "      <th></th>\n",
       "      <th></th>\n",
       "      <th></th>\n",
       "      <th></th>\n",
       "      <th></th>\n",
       "    </tr>\n",
       "  </thead>\n",
       "  <tbody>\n",
       "    <tr>\n",
       "      <th>2014-04-01</th>\n",
       "      <td>537.76</td>\n",
       "      <td>541.87</td>\n",
       "      <td>536.77</td>\n",
       "      <td>541.65</td>\n",
       "      <td>7170000.0</td>\n",
       "      <td>0.0</td>\n",
       "      <td>1.0</td>\n",
       "      <td>71.905792</td>\n",
       "      <td>72.455354</td>\n",
       "      <td>71.773415</td>\n",
       "      <td>72.425937</td>\n",
       "      <td>50190000.0</td>\n",
       "    </tr>\n",
       "    <tr>\n",
       "      <th>2014-04-02</th>\n",
       "      <td>542.38</td>\n",
       "      <td>543.48</td>\n",
       "      <td>540.26</td>\n",
       "      <td>542.55</td>\n",
       "      <td>6443600.0</td>\n",
       "      <td>0.0</td>\n",
       "      <td>1.0</td>\n",
       "      <td>72.523548</td>\n",
       "      <td>72.670633</td>\n",
       "      <td>72.240076</td>\n",
       "      <td>72.546280</td>\n",
       "      <td>45105200.0</td>\n",
       "    </tr>\n",
       "    <tr>\n",
       "      <th>2014-04-03</th>\n",
       "      <td>541.39</td>\n",
       "      <td>542.50</td>\n",
       "      <td>537.64</td>\n",
       "      <td>538.79</td>\n",
       "      <td>5798000.0</td>\n",
       "      <td>0.0</td>\n",
       "      <td>1.0</td>\n",
       "      <td>72.391172</td>\n",
       "      <td>72.539594</td>\n",
       "      <td>71.889746</td>\n",
       "      <td>72.043517</td>\n",
       "      <td>40586000.0</td>\n",
       "    </tr>\n",
       "    <tr>\n",
       "      <th>2014-04-04</th>\n",
       "      <td>539.81</td>\n",
       "      <td>540.00</td>\n",
       "      <td>530.58</td>\n",
       "      <td>531.82</td>\n",
       "      <td>9830400.0</td>\n",
       "      <td>0.0</td>\n",
       "      <td>1.0</td>\n",
       "      <td>72.179904</td>\n",
       "      <td>72.205310</td>\n",
       "      <td>70.945729</td>\n",
       "      <td>71.111533</td>\n",
       "      <td>68812800.0</td>\n",
       "    </tr>\n",
       "    <tr>\n",
       "      <th>2014-04-07</th>\n",
       "      <td>528.02</td>\n",
       "      <td>530.90</td>\n",
       "      <td>521.89</td>\n",
       "      <td>523.47</td>\n",
       "      <td>10351800.0</td>\n",
       "      <td>0.0</td>\n",
       "      <td>1.0</td>\n",
       "      <td>70.603422</td>\n",
       "      <td>70.988517</td>\n",
       "      <td>69.783758</td>\n",
       "      <td>69.995025</td>\n",
       "      <td>72462600.0</td>\n",
       "    </tr>\n",
       "  </tbody>\n",
       "</table>\n",
       "</div>"
      ],
      "text/plain": [
       "              Open    High     Low   Close      Volume  Ex-Dividend  \\\n",
       "Date                                                                  \n",
       "2014-04-01  537.76  541.87  536.77  541.65   7170000.0          0.0   \n",
       "2014-04-02  542.38  543.48  540.26  542.55   6443600.0          0.0   \n",
       "2014-04-03  541.39  542.50  537.64  538.79   5798000.0          0.0   \n",
       "2014-04-04  539.81  540.00  530.58  531.82   9830400.0          0.0   \n",
       "2014-04-07  528.02  530.90  521.89  523.47  10351800.0          0.0   \n",
       "\n",
       "            Split Ratio  Adj. Open  Adj. High   Adj. Low  Adj. Close  \\\n",
       "Date                                                                   \n",
       "2014-04-01          1.0  71.905792  72.455354  71.773415   72.425937   \n",
       "2014-04-02          1.0  72.523548  72.670633  72.240076   72.546280   \n",
       "2014-04-03          1.0  72.391172  72.539594  71.889746   72.043517   \n",
       "2014-04-04          1.0  72.179904  72.205310  70.945729   71.111533   \n",
       "2014-04-07          1.0  70.603422  70.988517  69.783758   69.995025   \n",
       "\n",
       "            Adj. Volume  \n",
       "Date                     \n",
       "2014-04-01   50190000.0  \n",
       "2014-04-02   45105200.0  \n",
       "2014-04-03   40586000.0  \n",
       "2014-04-04   68812800.0  \n",
       "2014-04-07   72462600.0  "
      ]
     },
     "execution_count": 16,
     "metadata": {},
     "output_type": "execute_result"
    }
   ],
   "source": [
    "#daily stock prices over the past five years, starting at April 20, 2014\n",
    "start = datetime.datetime(2014,4,1)\n",
    "end = datetime.date.today()\n",
    " \n",
    "#Apple stock data\n",
    "apple = quandl.get(\"WIKI/\" + \"AAPL\", start_date=start, end_date=end)\n",
    "\n",
    "apple.head()"
   ]
  },
  {
   "cell_type": "markdown",
   "metadata": {},
   "source": [
    "1. Compute annual volatility using all the data."
   ]
  },
  {
   "cell_type": "code",
   "execution_count": 43,
   "metadata": {},
   "outputs": [
    {
     "name": "stdout",
     "output_type": "stream",
     "text": [
      "Annual volatility equals to 22.81207108836306 %\n"
     ]
    }
   ],
   "source": [
    "# compute daily returns\n",
    "daily_returns = apple['Adj. Close'].pct_change().dropna().values.T \n",
    "# compute daily volatility  \n",
    "historical_vol_daily = np.std(daily_returns)  \n",
    "# convert daily volatility to annual volatility, assuming 252 trading days  \n",
    "historical_vol_annually = historical_vol_daily*np.sqrt(252)  \n",
    "# return estimate of annual volatility  \n",
    "print('Annual volatility equals to ' + str(100*historical_vol_annually) + ' %')"
   ]
  },
  {
   "cell_type": "markdown",
   "metadata": {},
   "source": [
    "2. Compute annual volatility for each calendar year in your data. How does\n",
    "volatility vary over time?"
   ]
  },
  {
   "cell_type": "code",
   "execution_count": 44,
   "metadata": {},
   "outputs": [
    {
     "data": {
      "text/plain": [
       "0.266811149004531"
      ]
     },
     "execution_count": 44,
     "metadata": {},
     "output_type": "execute_result"
    }
   ],
   "source": [
    "#2014\n",
    "close = apple['2014-01':'2014-12']['Adj. Close']\n",
    "r = np.diff(np.log(close))\n",
    "r_mean = np.mean(r)\n",
    "diff_square = [(r[i]-r_mean)**2 for i in range(0,len(r))]\n",
    "std = np.sqrt(sum(diff_square)*(1.0/(len(r)-1)))\n",
    "vol = std*np.sqrt(252)\n",
    "vol\n",
    "\n",
    "#2015\n",
    "close = apple['2015-01':'2015-12']['Adj. Close']\n",
    "r = np.diff(np.log(close))\n",
    "r_mean = np.mean(r)\n",
    "diff_square = [(r[i]-r_mean)**2 for i in range(0,len(r))]\n",
    "std = np.sqrt(sum(diff_square)*(1.0/(len(r)-1)))\n",
    "vol = std*np.sqrt(252)\n",
    "vol\n",
    "\n",
    "#2016\n",
    "close = apple['2016-01':'2016-12']['Adj. Close']\n",
    "r = np.diff(np.log(close))\n",
    "r_mean = np.mean(r)\n",
    "diff_square = [(r[i]-r_mean)**2 for i in range(0,len(r))]\n",
    "std = np.sqrt(sum(diff_square)*(1.0/(len(r)-1)))\n",
    "vol = std*np.sqrt(252)\n",
    "vol\n",
    "\n",
    "#2017\n",
    "close = apple['2017-01':'2017-12']['Adj. Close']\n",
    "r = np.diff(np.log(close))\n",
    "r_mean = np.mean(r)\n",
    "diff_square = [(r[i]-r_mean)**2 for i in range(0,len(r))]\n",
    "std = np.sqrt(sum(diff_square)*(1.0/(len(r)-1)))\n",
    "vol = std*np.sqrt(252)\n",
    "vol\n",
    "\n",
    "#2018\n",
    "close = apple['2018-01':'2018-12']['Adj. Close']\n",
    "r = np.diff(np.log(close))\n",
    "r_mean = np.mean(r)\n",
    "diff_square = [(r[i]-r_mean)**2 for i in range(0,len(r))]\n",
    "std = np.sqrt(sum(diff_square)*(1.0/(len(r)-1)))\n",
    "vol = std*np.sqrt(252)\n",
    "vol"
   ]
  },
  {
   "cell_type": "markdown",
   "metadata": {},
   "source": [
    "3. Compute annual volatility for the first and second half of each year in your\n",
    "data. How much variation is there in your estimate?"
   ]
  },
  {
   "cell_type": "code",
   "execution_count": 45,
   "metadata": {},
   "outputs": [
    {
     "data": {
      "text/plain": [
       "0.266811149004531"
      ]
     },
     "execution_count": 45,
     "metadata": {},
     "output_type": "execute_result"
    }
   ],
   "source": [
    "#2014\n",
    "close = apple['2014-01':'2014-12']['Adj. Close']\n",
    "r = np.diff(np.log(close))\n",
    "r_mean = np.mean(r)\n",
    "diff_square = [(r[i]-r_mean)**2 for i in range(0,len(r))]\n",
    "std = np.sqrt(sum(diff_square)*(1.0/(len(r)-1)))\n",
    "vol = std*np.sqrt(252)\n",
    "vol\n",
    "\n",
    "#2015\n",
    "close = apple['2015-01':'2015-12']['Adj. Close']\n",
    "r = np.diff(np.log(close))\n",
    "r_mean = np.mean(r)\n",
    "diff_square = [(r[i]-r_mean)**2 for i in range(0,len(r))]\n",
    "std = np.sqrt(sum(diff_square)*(1.0/(len(r)-1)))\n",
    "vol = std*np.sqrt(252)\n",
    "vol\n",
    "\n",
    "#2016\n",
    "close = apple['2016-01':'2016-12']['Adj. Close']\n",
    "r = np.diff(np.log(close))\n",
    "r_mean = np.mean(r)\n",
    "diff_square = [(r[i]-r_mean)**2 for i in range(0,len(r))]\n",
    "std = np.sqrt(sum(diff_square)*(1.0/(len(r)-1)))\n",
    "vol = std*np.sqrt(252)\n",
    "vol\n",
    "\n",
    "#2017\n",
    "close = apple['2017-01':'2017-12']['Adj. Close']\n",
    "r = np.diff(np.log(close))\n",
    "r_mean = np.mean(r)\n",
    "diff_square = [(r[i]-r_mean)**2 for i in range(0,len(r))]\n",
    "std = np.sqrt(sum(diff_square)*(1.0/(len(r)-1)))\n",
    "vol = std*np.sqrt(252)\n",
    "vol\n",
    "\n",
    "#2018\n",
    "close = apple['2018-01':'2018-12']['Adj. Close']\n",
    "r = np.diff(np.log(close))\n",
    "r_mean = np.mean(r)\n",
    "diff_square = [(r[i]-r_mean)**2 for i in range(0,len(r))]\n",
    "std = np.sqrt(sum(diff_square)*(1.0/(len(r)-1)))\n",
    "vol = std*np.sqrt(252)\n",
    "vol"
   ]
  },
  {
   "cell_type": "markdown",
   "metadata": {},
   "source": [
    "### 11.1 Consider a one-period binomial model with h = 1, where S = $100, r = 0, σ = 0.3, δ = 0.08. \n",
    "Compute American call option prices for K = $70, $80, $90, and $100.\n",
    "\n"
   ]
  },
  {
   "cell_type": "code",
   "execution_count": 69,
   "metadata": {},
   "outputs": [],
   "source": [
    "S = 100\n",
    "r = 0\n",
    "T = 0.5\n",
    "h = 1\n",
    "st_dev = 0.3"
   ]
  },
  {
   "cell_type": "markdown",
   "metadata": {},
   "source": [
    "a. At which strike(s) does early exercise occur?"
   ]
  },
  {
   "cell_type": "markdown",
   "metadata": {},
   "source": [
    "Early exercise occurs only at strike prices of 70 and 80. The value of the one period binomial European 70 strike call is 23.24, while the value of immediate exercise is 100 – 70 = 30. The value of the 80 strike European call is 19.98, while the value of immediate exercise is 20"
   ]
  },
  {
   "cell_type": "markdown",
   "metadata": {},
   "source": [
    "b. Use put-call parity to explain why early exercise does not occur at the higher\n",
    "strikes."
   ]
  },
  {
   "cell_type": "code",
   "execution_count": 70,
   "metadata": {},
   "outputs": [
    {
     "name": "stdout",
     "output_type": "stream",
     "text": [
      "51.85727544772025\n",
      "1.0\n"
     ]
    }
   ],
   "source": [
    "S = 70\n",
    "#C = S*math.exp(-st_dev)-K*math.exp(-r)+P\n",
    "print(S*math.exp(-st_dev))\n",
    "print(math.exp(-r))"
   ]
  },
  {
   "cell_type": "markdown",
   "metadata": {},
   "source": [
    "As long as 100–K is larger than 44.93−K+P or P<7.688, we will exercise the option early. Already at a strike of 90, 100 –K=10 is smaller than the continuation value given by the above formula, so we do not exercise early."
   ]
  },
  {
   "cell_type": "markdown",
   "metadata": {},
   "source": [
    "### 12.3 Let S = $100, K = $120, σ = 30%, r = 0.08, and δ = 0.\n",
    "a. Compute the Black-Scholes call price for 1 year to maturity and for a variety\n",
    "of very long times to maturity. What happens to the option price as T → ∞?"
   ]
  },
  {
   "cell_type": "code",
   "execution_count": 87,
   "metadata": {},
   "outputs": [],
   "source": [
    "S = 100\n",
    "K = 120\n",
    "r = 0.08\n",
    "sigma = 0.3\n",
    "st_dev = 0"
   ]
  },
  {
   "cell_type": "code",
   "execution_count": 95,
   "metadata": {},
   "outputs": [
    {
     "data": {
      "text/plain": [
       "-0.19107185597984866"
      ]
     },
     "execution_count": 95,
     "metadata": {},
     "output_type": "execute_result"
    }
   ],
   "source": [
    "#at T=1\n",
    "T=1\n",
    "d1 =(math.log(S/K) + (r-st_dev + (0.5*pow(sigma,2)*T)))/(sigma*np.sqrt(T))\n",
    "d1"
   ]
  },
  {
   "cell_type": "code",
   "execution_count": 96,
   "metadata": {},
   "outputs": [
    {
     "data": {
      "text/plain": [
       "-0.49107185597984865"
      ]
     },
     "execution_count": 96,
     "metadata": {},
     "output_type": "execute_result"
    }
   ],
   "source": [
    "d2 = d1-sigma*math.sqrt(T)\n",
    "d2"
   ]
  },
  {
   "cell_type": "code",
   "execution_count": 100,
   "metadata": {},
   "outputs": [
    {
     "data": {
      "text/plain": [
       "7.89657101792335"
      ]
     },
     "execution_count": 100,
     "metadata": {},
     "output_type": "execute_result"
    }
   ],
   "source": [
    "BS_call_price = S*math.exp(-st_dev*T)*norm.cdf(d1) - K*math.exp(-r*T)*norm.cdf(d2)\n",
    "BS_call_price "
   ]
  },
  {
   "cell_type": "markdown",
   "metadata": {},
   "source": [
    "As T approaches infinity, the call approaches the value of the underlying stock price, signifying that over very long time horizons the call option is not distinguishable from the stock."
   ]
  },
  {
   "cell_type": "markdown",
   "metadata": {},
   "source": [
    "### 13.3 Suppose you buy a 40–45 bull spread with 91 days to expiration. If you delta-hedge this position, what investment is required? What is your overnight profit if the stock tomorrow is 39? What if the stock is 40.50?"
   ]
  },
  {
   "cell_type": "markdown",
   "metadata": {},
   "source": [
    "### 18.2 You draw these five numbers from a standard normal distribution:{−1.7, 0.55, −0.3,−0.02, .85}. What are the equivalent draws from a normal distribution with mean 0.8 and variance 25?"
   ]
  },
  {
   "cell_type": "code",
   "execution_count": 109,
   "metadata": {},
   "outputs": [],
   "source": [
    "mean = 0.8\n",
    "var = 25"
   ]
  },
  {
   "cell_type": "markdown",
   "metadata": {},
   "source": [
    "X is Normally distributed and Y is “Standard” normally distributed<br>\n",
    "Y =(X - mean (X)) /SD(X) <br>\n",
    "X = Y*SD(X) + mean (X)"
   ]
  },
  {
   "cell_type": "code",
   "execution_count": 110,
   "metadata": {},
   "outputs": [
    {
     "data": {
      "text/plain": [
       "-7.7"
      ]
     },
     "execution_count": 110,
     "metadata": {},
     "output_type": "execute_result"
    }
   ],
   "source": [
    "st_dev = math.sqrt(var)\n",
    "X = -1.7*st_dev  + mean\n",
    "X"
   ]
  },
  {
   "cell_type": "code",
   "execution_count": 111,
   "metadata": {},
   "outputs": [
    {
     "data": {
      "text/plain": [
       "3.55"
      ]
     },
     "execution_count": 111,
     "metadata": {},
     "output_type": "execute_result"
    }
   ],
   "source": [
    "X = 0.55*st_dev  + mean\n",
    "X"
   ]
  },
  {
   "cell_type": "code",
   "execution_count": 112,
   "metadata": {},
   "outputs": [
    {
     "data": {
      "text/plain": [
       "-0.7"
      ]
     },
     "execution_count": 112,
     "metadata": {},
     "output_type": "execute_result"
    }
   ],
   "source": [
    "X = -0.3*st_dev  + mean\n",
    "X"
   ]
  },
  {
   "cell_type": "code",
   "execution_count": 113,
   "metadata": {},
   "outputs": [
    {
     "data": {
      "text/plain": [
       "0.7000000000000001"
      ]
     },
     "execution_count": 113,
     "metadata": {},
     "output_type": "execute_result"
    }
   ],
   "source": [
    "X = -0.02*st_dev  + mean\n",
    "X"
   ]
  },
  {
   "cell_type": "code",
   "execution_count": 114,
   "metadata": {},
   "outputs": [
    {
     "data": {
      "text/plain": [
       "5.05"
      ]
     },
     "execution_count": 114,
     "metadata": {},
     "output_type": "execute_result"
    }
   ],
   "source": [
    "X = 0.85*st_dev  + mean\n",
    "X"
   ]
  }
 ],
 "metadata": {
  "kernelspec": {
   "display_name": "Python 3",
   "language": "python",
   "name": "python3"
  },
  "language_info": {
   "codemirror_mode": {
    "name": "ipython",
    "version": 3
   },
   "file_extension": ".py",
   "mimetype": "text/x-python",
   "name": "python",
   "nbconvert_exporter": "python",
   "pygments_lexer": "ipython3",
   "version": "3.6.5"
  }
 },
 "nbformat": 4,
 "nbformat_minor": 2
}
